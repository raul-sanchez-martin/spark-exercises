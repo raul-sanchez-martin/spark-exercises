{
 "cells": [
  {
   "cell_type": "markdown",
   "metadata": {},
   "source": [
    "# Window Exercises\n",
    "\n",
    "Examples taken from [Spark: The definitive Guide](https://github.com/databricks/Spark-The-Definitive-Guide)"
   ]
  },
  {
   "cell_type": "markdown",
   "metadata": {},
   "source": [
    "## Imports and Initializing Spark Session"
   ]
  },
  {
   "cell_type": "code",
   "execution_count": 27,
   "metadata": {},
   "outputs": [],
   "source": [
    "# Imports\n",
    "\n",
    "from pyspark.sql import SparkSession\n",
    "import pyspark.sql.functions as F\n",
    "from pyspark.sql.window import Window"
   ]
  },
  {
   "cell_type": "code",
   "execution_count": 6,
   "metadata": {},
   "outputs": [],
   "source": [
    "# Initializing SparkSession\n",
    "\n",
    "spark = SparkSession.builder.appName(\"Basic Structured Operations\")\\\n",
    ".master(\"local[*]\").getOrCreate()"
   ]
  },
  {
   "cell_type": "markdown",
   "metadata": {},
   "source": [
    "## Loading Data"
   ]
  },
  {
   "cell_type": "code",
   "execution_count": 20,
   "metadata": {},
   "outputs": [],
   "source": [
    "## Load Data\n",
    "\n",
    "df = spark.read.csv(\"../data/retail/\", header=True, \n",
    "                    inferSchema=True).withColumn(\"InvoiceDate\", F.to_date(F.col(\"InvoiceDate\")))"
   ]
  },
  {
   "cell_type": "code",
   "execution_count": 21,
   "metadata": {},
   "outputs": [
    {
     "name": "stdout",
     "output_type": "stream",
     "text": [
      "+---------+---------+--------------------+--------+-----------+---------+----------+--------------+\n",
      "|InvoiceNo|StockCode|         Description|Quantity|InvoiceDate|UnitPrice|CustomerID|       Country|\n",
      "+---------+---------+--------------------+--------+-----------+---------+----------+--------------+\n",
      "|   537226|    22811|SET OF 6 T-LIGHTS...|       6| 2010-12-06|     2.95|   15987.0|United Kingdom|\n",
      "|   537226|    21713|CITRONELLA CANDLE...|       8| 2010-12-06|      2.1|   15987.0|United Kingdom|\n",
      "|   537226|    22927|GREEN GIANT GARDE...|       2| 2010-12-06|     5.95|   15987.0|United Kingdom|\n",
      "|   537226|    20802|SMALL GLASS SUNDA...|       6| 2010-12-06|     1.65|   15987.0|United Kingdom|\n",
      "|   537226|    22052|VINTAGE CARAVAN G...|      25| 2010-12-06|     0.42|   15987.0|United Kingdom|\n",
      "+---------+---------+--------------------+--------+-----------+---------+----------+--------------+\n",
      "only showing top 5 rows\n",
      "\n"
     ]
    }
   ],
   "source": [
    "# Show data\n",
    "\n",
    "df.show(5)"
   ]
  },
  {
   "cell_type": "markdown",
   "metadata": {},
   "source": [
    "## Window"
   ]
  },
  {
   "cell_type": "code",
   "execution_count": 40,
   "metadata": {},
   "outputs": [
    {
     "name": "stdout",
     "output_type": "stream",
     "text": [
      "+----------+-----------+--------+-------------------+----+----------+\n",
      "|CustomerId|InvoiceDate|Quantity|MaxQuantityUpToDate|rank|dense_rank|\n",
      "+----------+-----------+--------+-------------------+----+----------+\n",
      "|   14001.0| 2010-12-01|      20|                 20|   1|         1|\n",
      "|   14001.0| 2010-12-01|      16|                 20|   2|         2|\n",
      "|   14001.0| 2010-12-01|      16|                 20|   2|         2|\n",
      "|   14001.0| 2010-12-01|      10|                 20|   4|         3|\n",
      "|   14001.0| 2010-12-01|      10|                 20|   4|         3|\n",
      "|   14001.0| 2010-12-01|       8|                 20|   6|         4|\n",
      "|   14001.0| 2010-12-01|       6|                 20|   7|         5|\n",
      "|   14001.0| 2010-12-01|       6|                 20|   7|         5|\n",
      "|   14001.0| 2010-12-01|       2|                 20|   9|         6|\n",
      "|   15838.0| 2010-12-07|     300|                300|   1|         1|\n",
      "|   15838.0| 2010-12-07|     150|                300|   2|         2|\n",
      "|   15838.0| 2010-12-07|     100|                300|   3|         3|\n",
      "|   17677.0| 2010-12-08|      72|                 72|   1|         1|\n",
      "|   17677.0| 2010-12-08|      72|                 72|   1|         1|\n",
      "|   17677.0| 2010-12-08|      72|                 72|   1|         1|\n",
      "|   17677.0| 2010-12-08|      72|                 72|   1|         1|\n",
      "|   15061.0| 2010-12-15|     480|                480|   1|         1|\n",
      "|   15061.0| 2010-12-15|      96|                480|   2|         2|\n",
      "|   15061.0| 2010-12-15|      84|                480|   3|         3|\n",
      "|   15061.0| 2010-12-15|      80|                480|   4|         4|\n",
      "+----------+-----------+--------+-------------------+----+----------+\n",
      "only showing top 20 rows\n",
      "\n"
     ]
    }
   ],
   "source": [
    "# Define the window\n",
    "window = Window.partitionBy(\"InvoiceDate\", \"CustomerId\").orderBy(F.desc(\"Quantity\"))\\\n",
    ".rowsBetween(Window.unboundedPreceding, Window.currentRow)\n",
    "\n",
    "# colum that gets the maximum Quantity over the window\n",
    "max_purchase_quantity = F.max(F.col(\"Quantity\")).over(window)\n",
    "\n",
    "# show results\n",
    "df.select(\"CustomerId\", \"InvoiceDate\", \"Quantity\", \n",
    "          max_purchase_quantity.alias(\"MaxQuantityUpToDate\"),\n",
    "          F.rank().over(window).alias(\"rank\"),\n",
    "          F.dense_rank().over(window).alias(\"dense_rank\")).show()"
   ]
  },
  {
   "cell_type": "markdown",
   "metadata": {},
   "source": [
    "## Grouping Sets, Roll Up and Cube"
   ]
  },
  {
   "cell_type": "code",
   "execution_count": 57,
   "metadata": {},
   "outputs": [],
   "source": [
    "df_no_null = df.filter(F.col(\"CustomerId\").isNotNull())\n",
    "df_no_null.registerTempTable(\"df_no_null\")"
   ]
  },
  {
   "cell_type": "code",
   "execution_count": 58,
   "metadata": {},
   "outputs": [
    {
     "name": "stdout",
     "output_type": "stream",
     "text": [
      "+----------+-----------+-----------+\n",
      "|CustomerId|InvoiceDate|MaxQuantity|\n",
      "+----------+-----------+-----------+\n",
      "|      null| 2010-12-01|        600|\n",
      "|   13694.0| 2010-12-01|        600|\n",
      "|   16210.0| 2010-12-01|        480|\n",
      "|   16029.0| 2010-12-01|        432|\n",
      "|   13777.0| 2010-12-01|        384|\n",
      "|   17511.0| 2010-12-01|        288|\n",
      "|   17181.0| 2010-12-01|        144|\n",
      "|   14045.0| 2010-12-01|        128|\n",
      "|   14688.0| 2010-12-01|        120|\n",
      "|   12433.0| 2010-12-01|         96|\n",
      "|   12791.0| 2010-12-01|         96|\n",
      "|   13408.0| 2010-12-01|         96|\n",
      "|   13093.0| 2010-12-01|         96|\n",
      "|   13748.0| 2010-12-01|         80|\n",
      "|   15485.0| 2010-12-01|         80|\n",
      "|   18144.0| 2010-12-01|         80|\n",
      "|   13255.0| 2010-12-01|         72|\n",
      "|   17025.0| 2010-12-01|         72|\n",
      "|   17760.0| 2010-12-01|         72|\n",
      "|   15291.0| 2010-12-01|         64|\n",
      "+----------+-----------+-----------+\n",
      "only showing top 20 rows\n",
      "\n"
     ]
    }
   ],
   "source": [
    "## Using SQL & GROUPING SETS\n",
    "\n",
    "spark.sql(\"\"\"\n",
    "    SELECT CustomerId, InvoiceDate, MAX(Quantity) as MaxQuantity\n",
    "    from df_no_null\n",
    "    GROUP BY CustomerId, InvoiceDate\n",
    "    GROUPING SETS ((CustomerId, InvoiceDate), (InvoiceDate))\n",
    "    ORDER BY InvoiceDate, MaxQuantity DESC\n",
    "\n",
    "\"\"\").show()"
   ]
  },
  {
   "cell_type": "code",
   "execution_count": 59,
   "metadata": {},
   "outputs": [
    {
     "name": "stdout",
     "output_type": "stream",
     "text": [
      "+-----------+----------+-----------+\n",
      "|InvoiceDate|CustomerId|MaxQuantity|\n",
      "+-----------+----------+-----------+\n",
      "|       null|      null|       2880|\n",
      "| 2010-12-01|   13694.0|        600|\n",
      "| 2010-12-01|      null|        600|\n",
      "| 2010-12-01|   16210.0|        480|\n",
      "| 2010-12-01|   16029.0|        432|\n",
      "| 2010-12-01|   13777.0|        384|\n",
      "| 2010-12-01|   17511.0|        288|\n",
      "| 2010-12-01|   17181.0|        144|\n",
      "| 2010-12-01|   14045.0|        128|\n",
      "| 2010-12-01|   14688.0|        120|\n",
      "| 2010-12-01|   13408.0|         96|\n",
      "| 2010-12-01|   13093.0|         96|\n",
      "| 2010-12-01|   12791.0|         96|\n",
      "| 2010-12-01|   12433.0|         96|\n",
      "| 2010-12-01|   13748.0|         80|\n",
      "| 2010-12-01|   18144.0|         80|\n",
      "| 2010-12-01|   15485.0|         80|\n",
      "| 2010-12-01|   17025.0|         72|\n",
      "| 2010-12-01|   17760.0|         72|\n",
      "| 2010-12-01|   13255.0|         72|\n",
      "+-----------+----------+-----------+\n",
      "only showing top 20 rows\n",
      "\n"
     ]
    }
   ],
   "source": [
    "## Using rollup\n",
    "\n",
    "df_no_null.rollup(\"InvoiceDate\", \"CustomerId\")\\\n",
    ".agg(F.max(\"Quantity\").alias(\"MaxQuantity\"))\\\n",
    ".orderBy(F.col(\"InvoiceDate\"), F.desc(\"MaxQuantity\")).show()"
   ]
  },
  {
   "cell_type": "code",
   "execution_count": 61,
   "metadata": {},
   "outputs": [
    {
     "name": "stdout",
     "output_type": "stream",
     "text": [
      "+-----------+----------+-----------+\n",
      "|InvoiceDate|CustomerId|MaxQuantity|\n",
      "+-----------+----------+-----------+\n",
      "|       null|   16754.0|       2880|\n",
      "|       null|      null|       2880|\n",
      "|       null|   16029.0|       2400|\n",
      "|       null|   15299.0|       1824|\n",
      "|       null|   12875.0|       1728|\n",
      "|       null|   12755.0|       1488|\n",
      "|       null|   14156.0|       1440|\n",
      "|       null|   17857.0|       1394|\n",
      "|       null|   17306.0|       1296|\n",
      "|       null|   18102.0|       1008|\n",
      "|       null|   13848.0|       1000|\n",
      "|       null|   13027.0|        960|\n",
      "|       null|   16422.0|        720|\n",
      "|       null|   17381.0|        600|\n",
      "|       null|   13694.0|        600|\n",
      "|       null|   17404.0|        576|\n",
      "|       null|   17511.0|        576|\n",
      "|       null|   16013.0|        500|\n",
      "|       null|   16927.0|        480|\n",
      "|       null|   15061.0|        480|\n",
      "+-----------+----------+-----------+\n",
      "only showing top 20 rows\n",
      "\n"
     ]
    }
   ],
   "source": [
    "## Using Cube\n",
    "\n",
    "df_no_null.cube(\"InvoiceDate\", \"CustomerId\")\\\n",
    ".agg(F.max(\"Quantity\").alias(\"MaxQuantity\"))\\\n",
    ".orderBy(F.col(\"InvoiceDate\"), F.desc(\"MaxQuantity\")).show()"
   ]
  },
  {
   "cell_type": "markdown",
   "metadata": {},
   "source": [
    "## Pivot"
   ]
  },
  {
   "cell_type": "code",
   "execution_count": 65,
   "metadata": {},
   "outputs": [
    {
     "name": "stdout",
     "output_type": "stream",
     "text": [
      "+-----------+--------------+--------+\n",
      "|InvoiceDate|       Country|Quantity|\n",
      "+-----------+--------------+--------+\n",
      "| 2010-12-06|United Kingdom|       6|\n",
      "| 2010-12-06|United Kingdom|       8|\n",
      "| 2010-12-06|United Kingdom|       2|\n",
      "| 2010-12-06|United Kingdom|       6|\n",
      "| 2010-12-06|United Kingdom|      25|\n",
      "| 2010-12-06|United Kingdom|      25|\n",
      "| 2010-12-06|United Kingdom|       2|\n",
      "| 2010-12-06|United Kingdom|       6|\n",
      "| 2010-12-06|United Kingdom|       6|\n",
      "| 2010-12-06|United Kingdom|       2|\n",
      "| 2010-12-06|United Kingdom|       6|\n",
      "| 2010-12-06|United Kingdom|       2|\n",
      "| 2010-12-06|United Kingdom|     120|\n",
      "| 2010-12-06|United Kingdom|      48|\n",
      "| 2010-12-06|United Kingdom|      48|\n",
      "| 2010-12-06|United Kingdom|      48|\n",
      "| 2010-12-06|United Kingdom|      12|\n",
      "| 2010-12-06|United Kingdom|      48|\n",
      "| 2010-12-06|United Kingdom|      12|\n",
      "| 2010-12-06|United Kingdom|      12|\n",
      "+-----------+--------------+--------+\n",
      "only showing top 20 rows\n",
      "\n"
     ]
    }
   ],
   "source": [
    "df.select(\"InvoiceDate\", \"Country\", \"Quantity\").show()"
   ]
  },
  {
   "cell_type": "code",
   "execution_count": 68,
   "metadata": {},
   "outputs": [],
   "source": [
    "df_pivoted = df.groupBy(\"InvoiceDate\").pivot(\"Country\").agg(F.sum(\"Quantity\"))"
   ]
  },
  {
   "cell_type": "code",
   "execution_count": 69,
   "metadata": {},
   "outputs": [
    {
     "name": "stdout",
     "output_type": "stream",
     "text": [
      "root\n",
      " |-- InvoiceDate: date (nullable = true)\n",
      " |-- Australia: long (nullable = true)\n",
      " |-- Austria: long (nullable = true)\n",
      " |-- Bahrain: long (nullable = true)\n",
      " |-- Belgium: long (nullable = true)\n",
      " |-- Channel Islands: long (nullable = true)\n",
      " |-- Cyprus: long (nullable = true)\n",
      " |-- Denmark: long (nullable = true)\n",
      " |-- EIRE: long (nullable = true)\n",
      " |-- Finland: long (nullable = true)\n",
      " |-- France: long (nullable = true)\n",
      " |-- Germany: long (nullable = true)\n",
      " |-- Iceland: long (nullable = true)\n",
      " |-- Israel: long (nullable = true)\n",
      " |-- Italy: long (nullable = true)\n",
      " |-- Japan: long (nullable = true)\n",
      " |-- Lithuania: long (nullable = true)\n",
      " |-- Netherlands: long (nullable = true)\n",
      " |-- Norway: long (nullable = true)\n",
      " |-- Poland: long (nullable = true)\n",
      " |-- Portugal: long (nullable = true)\n",
      " |-- Spain: long (nullable = true)\n",
      " |-- Sweden: long (nullable = true)\n",
      " |-- Switzerland: long (nullable = true)\n",
      " |-- United Kingdom: long (nullable = true)\n",
      "\n"
     ]
    }
   ],
   "source": [
    "df_pivoted.printSchema()"
   ]
  },
  {
   "cell_type": "code",
   "execution_count": 71,
   "metadata": {},
   "outputs": [
    {
     "name": "stdout",
     "output_type": "stream",
     "text": [
      "+-----------+-----+-----------+--------------+\n",
      "|InvoiceDate|Spain|Switzerland|United Kingdom|\n",
      "+-----------+-----+-----------+--------------+\n",
      "| 2010-12-15| null|       null|         18211|\n",
      "| 2010-12-01| null|       null|         23949|\n",
      "| 2010-12-02| null|       null|         20873|\n",
      "| 2010-12-06| null|       null|         20669|\n",
      "| 2010-12-09|   67|       null|         14545|\n",
      "| 2010-12-21| null|       null|          8100|\n",
      "| 2010-12-17|  100|       null|          8824|\n",
      "| 2010-12-07| null|       null|         23769|\n",
      "| 2010-12-08| null|       null|         20086|\n",
      "| 2010-12-16| null|       null|         28060|\n",
      "| 2010-12-12| null|       null|          8156|\n",
      "| 2010-12-10| null|       null|         18273|\n",
      "| 2010-12-13|  300|       null|         17325|\n",
      "| 2010-12-14| null|       null|         19233|\n",
      "| 2010-12-19| null|       null|          3303|\n",
      "| 2010-12-23| null|       null|          4618|\n",
      "| 2010-12-03|  400|        110|         10439|\n",
      "| 2010-12-22| null|       null|          2350|\n",
      "| 2010-12-05| null|       null|         13604|\n",
      "| 2010-12-20| null|        604|         13714|\n",
      "+-----------+-----+-----------+--------------+\n",
      "\n"
     ]
    }
   ],
   "source": [
    "df_pivoted.select(\"InvoiceDate\", \"Spain\", \"Switzerland\", \"United Kingdom\").show()"
   ]
  },
  {
   "cell_type": "code",
   "execution_count": null,
   "metadata": {},
   "outputs": [],
   "source": []
  }
 ],
 "metadata": {
  "kernelspec": {
   "display_name": "Python 3",
   "language": "python",
   "name": "python3"
  },
  "language_info": {
   "codemirror_mode": {
    "name": "ipython",
    "version": 3
   },
   "file_extension": ".py",
   "mimetype": "text/x-python",
   "name": "python",
   "nbconvert_exporter": "python",
   "pygments_lexer": "ipython3",
   "version": "3.6.7"
  }
 },
 "nbformat": 4,
 "nbformat_minor": 2
}
