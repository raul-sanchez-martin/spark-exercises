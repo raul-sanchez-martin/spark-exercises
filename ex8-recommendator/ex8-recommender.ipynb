{
 "cells": [
  {
   "cell_type": "markdown",
   "metadata": {},
   "source": [
    "# Recomender Exercise"
   ]
  },
  {
   "cell_type": "code",
   "execution_count": 52,
   "metadata": {},
   "outputs": [],
   "source": [
    "from pyspark.ml.recommendation import ALS\n",
    "from pyspark.sql import SparkSession\n",
    "import pyspark.sql.types as T\n",
    "import pyspark.sql.functions as F\n",
    "from pyspark.mllib.evaluation import RegressionMetrics, RankingMetrics"
   ]
  },
  {
   "cell_type": "code",
   "execution_count": 5,
   "metadata": {},
   "outputs": [],
   "source": [
    "spark = SparkSession.builder.appName(\"Recomender\").master(\"local[*]\").getOrCreate()"
   ]
  },
  {
   "cell_type": "markdown",
   "metadata": {},
   "source": [
    "# Prepare Data"
   ]
  },
  {
   "cell_type": "code",
   "execution_count": 20,
   "metadata": {},
   "outputs": [],
   "source": [
    "schema = T.StructType([T.StructField(\"userId\", T.IntegerType(), True), \n",
    "                       T.StructField(\"movieId\", T.IntegerType(), True), \n",
    "                       T.StructField(\"rating\", T.IntegerType(), True),\n",
    "                       T.StructField(\"timestamp\", T.IntegerType(), True)])"
   ]
  },
  {
   "cell_type": "code",
   "execution_count": 21,
   "metadata": {},
   "outputs": [],
   "source": [
    "df_ratings = spark.read.csv(\"data/sample_movielens_ratings.txt\", header=True, schema=schema)"
   ]
  },
  {
   "cell_type": "code",
   "execution_count": 22,
   "metadata": {},
   "outputs": [
    {
     "name": "stdout",
     "output_type": "stream",
     "text": [
      "+------+-------+------+----------+\n",
      "|userId|movieId|rating| timestamp|\n",
      "+------+-------+------+----------+\n",
      "|     0|      2|     3|1424380312|\n",
      "|     0|      3|     1|1424380312|\n",
      "|     0|      5|     2|1424380312|\n",
      "|     0|      9|     4|1424380312|\n",
      "|     0|     11|     1|1424380312|\n",
      "|     0|     12|     2|1424380312|\n",
      "|     0|     15|     1|1424380312|\n",
      "|     0|     17|     1|1424380312|\n",
      "|     0|     19|     1|1424380312|\n",
      "|     0|     21|     1|1424380312|\n",
      "+------+-------+------+----------+\n",
      "only showing top 10 rows\n",
      "\n"
     ]
    }
   ],
   "source": [
    "df_ratings.show(10)"
   ]
  },
  {
   "cell_type": "code",
   "execution_count": 23,
   "metadata": {},
   "outputs": [],
   "source": [
    "train_df, test_df = df_ratings.randomSplit([0.8, 0.2])"
   ]
  },
  {
   "cell_type": "markdown",
   "metadata": {},
   "source": [
    "# Train Model"
   ]
  },
  {
   "cell_type": "code",
   "execution_count": 24,
   "metadata": {},
   "outputs": [],
   "source": [
    "als = ALS().setMaxIter(5)\\\n",
    "    .setRegParam(0.01)\\\n",
    "    .setUserCol(\"userId\")\\\n",
    "    .setItemCol(\"movieId\")\\\n",
    "    .setRatingCol(\"rating\")"
   ]
  },
  {
   "cell_type": "code",
   "execution_count": 25,
   "metadata": {},
   "outputs": [],
   "source": [
    "als_model = als.fit(train_df)"
   ]
  },
  {
   "cell_type": "markdown",
   "metadata": {},
   "source": [
    "#  Make Predictions"
   ]
  },
  {
   "cell_type": "code",
   "execution_count": 26,
   "metadata": {},
   "outputs": [],
   "source": [
    "predictions = als_model.transform(test_df)"
   ]
  },
  {
   "cell_type": "code",
   "execution_count": 32,
   "metadata": {},
   "outputs": [
    {
     "name": "stdout",
     "output_type": "stream",
     "text": [
      "+------+-------+------+----------+----------+\n",
      "|userId|movieId|rating| timestamp|prediction|\n",
      "+------+-------+------+----------+----------+\n",
      "|    12|      7|     3|1424380312| 4.1294384|\n",
      "|    12|     60|     1|1424380312| 3.0038013|\n",
      "|    12|     16|     4|1424380312| 2.2946267|\n",
      "|    12|     31|     4|1424380312| 1.8449553|\n",
      "|    12|     66|     3|1424380312| 1.4081788|\n",
      "|    12|     14|     1|1424380312| 1.2755138|\n",
      "|    12|     57|     1|1424380312| 1.2601724|\n",
      "|    12|     86|     1|1424380312| 1.0170988|\n",
      "|    12|     21|     1|1424380312| 0.8252791|\n",
      "|    12|      6|     1|1424380312|0.36230522|\n",
      "|    12|     98|     2|1424380312|-0.6299471|\n",
      "|    12|     96|     1|1424380312|-2.1443143|\n",
      "+------+-------+------+----------+----------+\n",
      "\n"
     ]
    }
   ],
   "source": [
    "predictions.filter(F.col(\"userId\")==12).orderBy(F.desc(\"prediction\")).show()"
   ]
  },
  {
   "cell_type": "code",
   "execution_count": 33,
   "metadata": {},
   "outputs": [
    {
     "name": "stdout",
     "output_type": "stream",
     "text": [
      "+------+---------------+\n",
      "|userId|            col|\n",
      "+------+---------------+\n",
      "|    28|[92, 5.2121725]|\n",
      "|    28|[12, 4.7814813]|\n",
      "|    28| [81, 4.684808]|\n",
      "|    28|[28, 4.6136627]|\n",
      "|    28| [49, 4.270647]|\n",
      "|    28|[91, 4.0818152]|\n",
      "|    28|[89, 3.9107444]|\n",
      "|    28| [2, 3.8538032]|\n",
      "|    28|[82, 3.8029647]|\n",
      "|    28|[68, 3.8022418]|\n",
      "|    26| [32, 8.092326]|\n",
      "|    26| [25, 6.237586]|\n",
      "|    26|  [94, 5.16172]|\n",
      "|    26|[23, 5.0169964]|\n",
      "|    26|[65, 4.9577723]|\n",
      "|    26|[22, 4.8798947]|\n",
      "|    26| [7, 4.8716254]|\n",
      "|    26|[88, 4.7927804]|\n",
      "|    26|[46, 4.4969087]|\n",
      "|    26|   [10, 4.4586]|\n",
      "+------+---------------+\n",
      "only showing top 20 rows\n",
      "\n"
     ]
    }
   ],
   "source": [
    "als_model.recommendForAllUsers(10).selectExpr(\"userId\", \"explode(recommendations)\").show()"
   ]
  },
  {
   "cell_type": "code",
   "execution_count": 34,
   "metadata": {},
   "outputs": [
    {
     "name": "stdout",
     "output_type": "stream",
     "text": [
      "+-------+---------------+\n",
      "|movieId|            col|\n",
      "+-------+---------------+\n",
      "|     31| [14, 2.699049]|\n",
      "|     31| [6, 2.5747516]|\n",
      "|     31|  [8, 2.095369]|\n",
      "|     31| [25, 1.980439]|\n",
      "|     31|[21, 1.9674375]|\n",
      "|     31|[12, 1.8449553]|\n",
      "|     31|  [7, 1.829401]|\n",
      "|     31|[22, 1.5002669]|\n",
      "|     31|  [3, 1.440098]|\n",
      "|     31| [9, 1.3575178]|\n",
      "|     85|  [4, 4.994902]|\n",
      "|     85| [8, 4.9413614]|\n",
      "|     85| [16, 4.914472]|\n",
      "|     85|    [10, 4.044]|\n",
      "|     85|[22, 3.5222337]|\n",
      "|     85| [7, 3.5140991]|\n",
      "|     85|[14, 3.3588111]|\n",
      "|     85|[21, 3.3136427]|\n",
      "|     85| [6, 3.2266011]|\n",
      "|     85|  [1, 2.870932]|\n",
      "+-------+---------------+\n",
      "only showing top 20 rows\n",
      "\n"
     ]
    }
   ],
   "source": [
    "als_model.recommendForAllItems(10).selectExpr(\"movieId\", \"explode(recommendations)\").show()"
   ]
  },
  {
   "cell_type": "markdown",
   "metadata": {},
   "source": [
    "# Evaluators"
   ]
  },
  {
   "cell_type": "markdown",
   "metadata": {},
   "source": [
    "## Regression Metrics"
   ]
  },
  {
   "cell_type": "code",
   "execution_count": 48,
   "metadata": {},
   "outputs": [],
   "source": [
    "reg_comparison = predictions.select(\"rating\", \"prediction\")\\\n",
    "    .rdd.map(lambda x: (float(x[\"rating\"]), float(x[\"prediction\"])))\n",
    "metrics = RegressionMetrics(reg_comparison)"
   ]
  },
  {
   "cell_type": "code",
   "execution_count": 51,
   "metadata": {},
   "outputs": [
    {
     "data": {
      "text/plain": [
       "1.2369797419345676"
      ]
     },
     "execution_count": 51,
     "metadata": {},
     "output_type": "execute_result"
    }
   ],
   "source": [
    "metrics.meanAbsoluteError"
   ]
  },
  {
   "cell_type": "markdown",
   "metadata": {},
   "source": [
    "## Ranking Metrics"
   ]
  },
  {
   "cell_type": "code",
   "execution_count": 59,
   "metadata": {},
   "outputs": [],
   "source": [
    "per_user_actual = predictions.filter(F.col(\"rating\") > 2.5).groupBy(\"userID\")\\\n",
    "    .agg(F.expr(\"collect_set(movieId) as movies\"))"
   ]
  },
  {
   "cell_type": "code",
   "execution_count": 60,
   "metadata": {},
   "outputs": [
    {
     "name": "stdout",
     "output_type": "stream",
     "text": [
      "+------+--------------------+\n",
      "|userID|              movies|\n",
      "+------+--------------------+\n",
      "|    28|                [19]|\n",
      "|    27|                [27]|\n",
      "|    26|             [6, 24]|\n",
      "|    12|     [66, 16, 31, 7]|\n",
      "|    22|    [70, 32, 62, 98]|\n",
      "|     1|             [9, 21]|\n",
      "|    13|            [93, 72]|\n",
      "|    16|     [5, 54, 47, 29]|\n",
      "|     3|    [52, 88, 36, 29]|\n",
      "|    20|                [77]|\n",
      "|     5|            [50, 68]|\n",
      "|    19|                [90]|\n",
      "|    17|[56, 17, 90, 22, ...|\n",
      "|     9|        [49, 64, 43]|\n",
      "|     4|                [87]|\n",
      "|     8|[60, 31, 67, 58, 95]|\n",
      "|    23|            [49, 87]|\n",
      "|     7|            [31, 25]|\n",
      "|    24|[63, 52, 32, 72, 90]|\n",
      "|    29|        [19, 38, 94]|\n",
      "+------+--------------------+\n",
      "only showing top 20 rows\n",
      "\n"
     ]
    }
   ],
   "source": [
    "per_user_actual.show()"
   ]
  },
  {
   "cell_type": "code",
   "execution_count": 61,
   "metadata": {},
   "outputs": [],
   "source": [
    "per_user_predictions = predictions.orderBy(F.col(\"userId\"), F.desc(\"prediction\"))\\\n",
    "    .groupBy(\"userId\").agg(F.expr(\"collect_list(movieId) as movies\"))"
   ]
  },
  {
   "cell_type": "code",
   "execution_count": 62,
   "metadata": {},
   "outputs": [
    {
     "name": "stdout",
     "output_type": "stream",
     "text": [
      "+------+--------------------+\n",
      "|userId|              movies|\n",
      "+------+--------------------+\n",
      "|    28|[15, 19, 54, 38, ...|\n",
      "|    26|[6, 95, 48, 20, 3...|\n",
      "|    27|[27, 71, 60, 10, ...|\n",
      "|    12|[7, 60, 16, 31, 6...|\n",
      "|    22|[70, 32, 55, 62, ...|\n",
      "|     1|[2, 13, 82, 14, 9...|\n",
      "|    13|[52, 62, 93, 72, ...|\n",
      "|     6|[87, 54, 21, 49, ...|\n",
      "|    16|[2, 93, 72, 29, 6...|\n",
      "|     3|[66, 36, 52, 65, ...|\n",
      "|    20|[4, 84, 55, 91, 6...|\n",
      "|     5|[81, 95, 51, 50, ...|\n",
      "|    19|[90, 14, 72, 50, ...|\n",
      "|    15|[25, 17, 2, 14, 5...|\n",
      "|     9|[43, 49, 25, 83, ...|\n",
      "|    17|[90, 82, 17, 55, ...|\n",
      "|     4|[85, 20, 87, 11, ...|\n",
      "|     8|[58, 67, 95, 60, ...|\n",
      "|    23|[49, 66, 33, 87, ...|\n",
      "|     7|[25, 2, 7, 61, 31...|\n",
      "+------+--------------------+\n",
      "only showing top 20 rows\n",
      "\n"
     ]
    }
   ],
   "source": [
    "per_user_predictions.show()"
   ]
  },
  {
   "cell_type": "code",
   "execution_count": 63,
   "metadata": {},
   "outputs": [],
   "source": [
    "per_user_actual_vpred = per_user_actual.join(per_user_predictions, [\"userId\"])\\\n",
    "    .rdd.map(lambda row: (row[1], row[2][:15]))\n",
    "ranks = RankingMetrics(per_user_actual_vpred)"
   ]
  },
  {
   "cell_type": "code",
   "execution_count": 64,
   "metadata": {},
   "outputs": [
    {
     "data": {
      "text/plain": [
       "0.252172827172827"
      ]
     },
     "execution_count": 64,
     "metadata": {},
     "output_type": "execute_result"
    }
   ],
   "source": [
    "ranks.meanAveragePrecision"
   ]
  },
  {
   "cell_type": "code",
   "execution_count": 65,
   "metadata": {},
   "outputs": [
    {
     "data": {
      "text/plain": [
       "0.46923076923076934"
      ]
     },
     "execution_count": 65,
     "metadata": {},
     "output_type": "execute_result"
    }
   ],
   "source": [
    "ranks.precisionAt(5)"
   ]
  },
  {
   "cell_type": "code",
   "execution_count": null,
   "metadata": {},
   "outputs": [],
   "source": []
  }
 ],
 "metadata": {
  "kernelspec": {
   "display_name": "Python 3",
   "language": "python",
   "name": "python3"
  },
  "language_info": {
   "codemirror_mode": {
    "name": "ipython",
    "version": 3
   },
   "file_extension": ".py",
   "mimetype": "text/x-python",
   "name": "python",
   "nbconvert_exporter": "python",
   "pygments_lexer": "ipython3",
   "version": "3.6.7"
  }
 },
 "nbformat": 4,
 "nbformat_minor": 2
}
