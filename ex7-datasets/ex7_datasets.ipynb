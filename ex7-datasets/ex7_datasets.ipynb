{
 "cells": [
  {
   "cell_type": "markdown",
   "metadata": {},
   "source": [
    "# Datasets\n",
    "\n",
    "Examples taken from [Spark: The definitive Guide](https://github.com/databricks/Spark-The-Definitive-Guide)"
   ]
  },
  {
   "cell_type": "markdown",
   "metadata": {},
   "source": [
    "## Imports"
   ]
  },
  {
   "cell_type": "code",
   "execution_count": 4,
   "metadata": {},
   "outputs": [
    {
     "data": {
      "text/plain": [
       "import org.apache.spark.sql.{functions=>F}\n"
      ]
     },
     "metadata": {},
     "output_type": "display_data"
    }
   ],
   "source": [
    "// Imports\n",
    "\n",
    "import org.apache.spark.sql.{functions => F}"
   ]
  },
  {
   "cell_type": "markdown",
   "metadata": {},
   "source": [
    "## Load Data"
   ]
  },
  {
   "cell_type": "code",
   "execution_count": 7,
   "metadata": {},
   "outputs": [
    {
     "data": {
      "text/plain": [
       "df = [DEST_COUNTRY_NAME: string, ORIGIN_COUNTRY_NAME: string ... 1 more field]\n"
      ]
     },
     "metadata": {},
     "output_type": "display_data"
    },
    {
     "data": {
      "text/plain": [
       "[DEST_COUNTRY_NAME: string, ORIGIN_COUNTRY_NAME: string ... 1 more field]"
      ]
     },
     "execution_count": 7,
     "metadata": {},
     "output_type": "execute_result"
    }
   ],
   "source": [
    "// Load data\n",
    "\n",
    "val df = spark.read.option(\"header\", true)\n",
    "    .option(\"inferSchema\", true)\n",
    "    .option(\"sep\", \",\")\n",
    "    .csv(\"../data/flights.csv\")"
   ]
  },
  {
   "cell_type": "code",
   "execution_count": 15,
   "metadata": {},
   "outputs": [
    {
     "data": {
      "text/plain": [
       "defined class Flight\n"
      ]
     },
     "metadata": {},
     "output_type": "display_data"
    }
   ],
   "source": [
    "case class Flight(DEST_COUNTRY_NAME: String, \n",
    "                  ORIGIN_COUNTRY_NAME: String,\n",
    "                  count: Integer)"
   ]
  },
  {
   "cell_type": "code",
   "execution_count": 16,
   "metadata": {},
   "outputs": [
    {
     "data": {
      "text/plain": [
       "ds = [DEST_COUNTRY_NAME: string, ORIGIN_COUNTRY_NAME: string ... 1 more field]\n"
      ]
     },
     "metadata": {},
     "output_type": "display_data"
    },
    {
     "data": {
      "text/plain": [
       "[DEST_COUNTRY_NAME: string, ORIGIN_COUNTRY_NAME: string ... 1 more field]"
      ]
     },
     "execution_count": 16,
     "metadata": {},
     "output_type": "execute_result"
    }
   ],
   "source": [
    "// Convert data to DataSet\n",
    "\n",
    "val ds = df.as[Flight]"
   ]
  },
  {
   "cell_type": "code",
   "execution_count": 18,
   "metadata": {},
   "outputs": [
    {
     "name": "stdout",
     "output_type": "stream",
     "text": [
      "+--------------------+-------------------+-----+\n",
      "|   DEST_COUNTRY_NAME|ORIGIN_COUNTRY_NAME|count|\n",
      "+--------------------+-------------------+-----+\n",
      "|       United States|            Romania|    1|\n",
      "|       United States|            Ireland|  264|\n",
      "|       United States|              India|   69|\n",
      "|               Egypt|      United States|   24|\n",
      "|   Equatorial Guinea|      United States|    1|\n",
      "|       United States|          Singapore|   25|\n",
      "|       United States|            Grenada|   54|\n",
      "|          Costa Rica|      United States|  477|\n",
      "|             Senegal|      United States|   29|\n",
      "|       United States|   Marshall Islands|   44|\n",
      "|              Guyana|      United States|   17|\n",
      "|       United States|       Sint Maarten|   53|\n",
      "|               Malta|      United States|    1|\n",
      "|             Bolivia|      United States|   46|\n",
      "|            Anguilla|      United States|   21|\n",
      "|Turks and Caicos ...|      United States|  136|\n",
      "|       United States|        Afghanistan|    2|\n",
      "|Saint Vincent and...|      United States|    1|\n",
      "|               Italy|      United States|  390|\n",
      "|       United States|             Russia|  156|\n",
      "+--------------------+-------------------+-----+\n",
      "only showing top 20 rows\n",
      "\n"
     ]
    }
   ],
   "source": [
    "// Show data\n",
    "\n",
    "ds.show()"
   ]
  },
  {
   "cell_type": "code",
   "execution_count": 26,
   "metadata": {},
   "outputs": [
    {
     "data": {
      "text/plain": [
       "defined class FlightMetadata\n"
      ]
     },
     "metadata": {},
     "output_type": "display_data"
    }
   ],
   "source": [
    "case class FlightMetadata(count: BigInt, randomData: BigInt)"
   ]
  },
  {
   "cell_type": "code",
   "execution_count": 27,
   "metadata": {},
   "outputs": [
    {
     "data": {
      "text/plain": [
       "flightsMeta = [count: bigint, randomData: bigint]\n"
      ]
     },
     "metadata": {},
     "output_type": "display_data"
    },
    {
     "data": {
      "text/plain": [
       "[count: bigint, randomData: bigint]"
      ]
     },
     "execution_count": 27,
     "metadata": {},
     "output_type": "execute_result"
    }
   ],
   "source": [
    "// create some additional data \n",
    "\n",
    "val flightsMeta = spark.range(500).map(x => (x, scala.util.Random.nextLong))\n",
    ".withColumnRenamed(\"_1\", \"count\").withColumnRenamed(\"_2\", \"randomData\")\n",
    ".as[FlightMetadata]"
   ]
  },
  {
   "cell_type": "code",
   "execution_count": 28,
   "metadata": {},
   "outputs": [
    {
     "name": "stdout",
     "output_type": "stream",
     "text": [
      "+-----+--------------------+\n",
      "|count|          randomData|\n",
      "+-----+--------------------+\n",
      "|    0|-6031716416570896056|\n",
      "|    1|-5967086671531276217|\n",
      "|    2| 8598635527670955303|\n",
      "|    3| -267478557297359822|\n",
      "|    4| 2260447296336899327|\n",
      "+-----+--------------------+\n",
      "only showing top 5 rows\n",
      "\n"
     ]
    }
   ],
   "source": [
    "flightsMeta.show(5)"
   ]
  },
  {
   "cell_type": "markdown",
   "metadata": {},
   "source": [
    "## Operations in DataSets"
   ]
  },
  {
   "cell_type": "code",
   "execution_count": 21,
   "metadata": {},
   "outputs": [
    {
     "name": "stdout",
     "output_type": "stream",
     "text": [
      "+--------------------+-------------------+-----+\n",
      "|   DEST_COUNTRY_NAME|ORIGIN_COUNTRY_NAME|count|\n",
      "+--------------------+-------------------+-----+\n",
      "|               Egypt|      United States|   24|\n",
      "|   Equatorial Guinea|      United States|    1|\n",
      "|          Costa Rica|      United States|  477|\n",
      "|             Senegal|      United States|   29|\n",
      "|              Guyana|      United States|   17|\n",
      "|               Malta|      United States|    1|\n",
      "|             Bolivia|      United States|   46|\n",
      "|            Anguilla|      United States|   21|\n",
      "|Turks and Caicos ...|      United States|  136|\n",
      "|Saint Vincent and...|      United States|    1|\n",
      "|               Italy|      United States|  390|\n",
      "|            Pakistan|      United States|    9|\n",
      "|             Iceland|      United States|  118|\n",
      "|    Marshall Islands|      United States|   77|\n",
      "|          Luxembourg|      United States|   91|\n",
      "|            Honduras|      United States|  391|\n",
      "|         The Bahamas|      United States|  903|\n",
      "|         El Salvador|      United States|  519|\n",
      "|               Samoa|      United States|   28|\n",
      "|          Kazakhstan|      United States|    3|\n",
      "+--------------------+-------------------+-----+\n",
      "only showing top 20 rows\n",
      "\n"
     ]
    }
   ],
   "source": [
    "// filter\n",
    "// filter out all the flights which origin country is not United States\n",
    "\n",
    "ds.filter(_.ORIGIN_COUNTRY_NAME == \"United States\").show()"
   ]
  },
  {
   "cell_type": "code",
   "execution_count": 25,
   "metadata": {},
   "outputs": [
    {
     "name": "stdout",
     "output_type": "stream",
     "text": [
      "+-----+\n",
      "|value|\n",
      "+-----+\n",
      "|    1|\n",
      "|  264|\n",
      "|   69|\n",
      "|   24|\n",
      "|    1|\n",
      "|   25|\n",
      "|   54|\n",
      "|  477|\n",
      "|   29|\n",
      "|   44|\n",
      "|   17|\n",
      "|   53|\n",
      "|    1|\n",
      "|   46|\n",
      "|   21|\n",
      "|  136|\n",
      "|    2|\n",
      "|    1|\n",
      "|  390|\n",
      "|  156|\n",
      "+-----+\n",
      "only showing top 20 rows\n",
      "\n"
     ]
    }
   ],
   "source": [
    "// Map\n",
    "\n",
    "ds.map(_.count).show()"
   ]
  },
  {
   "cell_type": "code",
   "execution_count": 29,
   "metadata": {},
   "outputs": [
    {
     "name": "stdout",
     "output_type": "stream",
     "text": [
      "+--------------------+--------------------+\n",
      "|                  _1|                  _2|\n",
      "+--------------------+--------------------+\n",
      "|[United States, R...|[1, -596903653854...|\n",
      "|[United States, I...|[264, 64482154797...|\n",
      "|[United States, I...|[69, -22975802328...|\n",
      "|[Egypt, United St...|[24, -43955991332...|\n",
      "|[Equatorial Guine...|[1, -596903653854...|\n",
      "|[United States, S...|[25, 357239105324...|\n",
      "|[United States, G...|[54, 191869303802...|\n",
      "|[Costa Rica, Unit...|[477, -6337887343...|\n",
      "|[Senegal, United ...|[29, 164459472064...|\n",
      "|[United States, M...|[44, -19393253963...|\n",
      "|[Guyana, United S...|[17, 852759647551...|\n",
      "|[United States, S...|[53, -71976291324...|\n",
      "|[Malta, United St...|[1, -596903653854...|\n",
      "|[Bolivia, United ...|[46, 264415698752...|\n",
      "|[Anguilla, United...|[21, -42424416565...|\n",
      "|[Turks and Caicos...|[136, -7912373273...|\n",
      "|[United States, A...|[2, 2939696453340...|\n",
      "|[Saint Vincent an...|[1, -596903653854...|\n",
      "|[Italy, United St...|[390, -8965538714...|\n",
      "|[United States, R...|[156, -1674832703...|\n",
      "+--------------------+--------------------+\n",
      "only showing top 20 rows\n",
      "\n"
     ]
    }
   ],
   "source": [
    "// Join\n",
    "\n",
    "ds.joinWith(flightsMeta, ds.col(\"count\") === flightsMeta.col(\"count\")).show()"
   ]
  },
  {
   "cell_type": "code",
   "execution_count": 31,
   "metadata": {},
   "outputs": [
    {
     "name": "stdout",
     "output_type": "stream",
     "text": [
      "+--------------------+-----+\n",
      "| ORIGIN_COUNTRY_NAME|count|\n",
      "+--------------------+-----+\n",
      "|              Russia|    1|\n",
      "|            Anguilla|    1|\n",
      "|             Senegal|    1|\n",
      "|              Sweden|    1|\n",
      "|            Kiribati|    1|\n",
      "|              Guyana|    1|\n",
      "|         Philippines|    1|\n",
      "|           Singapore|    1|\n",
      "|            Malaysia|    1|\n",
      "|                Fiji|    1|\n",
      "|              Turkey|    1|\n",
      "|             Germany|    1|\n",
      "|         Afghanistan|    1|\n",
      "|              Jordan|    1|\n",
      "|               Palau|    1|\n",
      "|Turks and Caicos ...|    1|\n",
      "|              France|    1|\n",
      "|              Greece|    1|\n",
      "|British Virgin Is...|    1|\n",
      "|              Taiwan|    1|\n",
      "+--------------------+-----+\n",
      "only showing top 20 rows\n",
      "\n"
     ]
    }
   ],
   "source": [
    "// GroupBy\n",
    "\n",
    "ds.groupBy(\"ORIGIN_COUNTRY_NAME\").count().show()"
   ]
  },
  {
   "cell_type": "code",
   "execution_count": 32,
   "metadata": {},
   "outputs": [
    {
     "name": "stdout",
     "output_type": "stream",
     "text": [
      "+--------------------+--------+\n",
      "|               value|count(1)|\n",
      "+--------------------+--------+\n",
      "|              Russia|       1|\n",
      "|            Anguilla|       1|\n",
      "|             Senegal|       1|\n",
      "|              Sweden|       1|\n",
      "|            Kiribati|       1|\n",
      "|              Guyana|       1|\n",
      "|         Philippines|       1|\n",
      "|           Singapore|       1|\n",
      "|            Malaysia|       1|\n",
      "|                Fiji|       1|\n",
      "|              Turkey|       1|\n",
      "|             Germany|       1|\n",
      "|         Afghanistan|       1|\n",
      "|              Jordan|       1|\n",
      "|               Palau|       1|\n",
      "|Turks and Caicos ...|       1|\n",
      "|              France|       1|\n",
      "|              Greece|       1|\n",
      "|British Virgin Is...|       1|\n",
      "|              Taiwan|       1|\n",
      "+--------------------+--------+\n",
      "only showing top 20 rows\n",
      "\n"
     ]
    }
   ],
   "source": [
    "// groupByKey\n",
    "\n",
    "ds.groupByKey(x => x.ORIGIN_COUNTRY_NAME).count().show()"
   ]
  },
  {
   "cell_type": "code",
   "execution_count": null,
   "metadata": {},
   "outputs": [],
   "source": []
  }
 ],
 "metadata": {
  "kernelspec": {
   "display_name": "Apache Toree - Scala",
   "language": "scala",
   "name": "apache_toree_scala"
  },
  "language_info": {
   "codemirror_mode": "text/x-scala",
   "file_extension": ".scala",
   "mimetype": "text/x-scala",
   "name": "scala",
   "pygments_lexer": "scala",
   "version": "2.11.12"
  }
 },
 "nbformat": 4,
 "nbformat_minor": 2
}
