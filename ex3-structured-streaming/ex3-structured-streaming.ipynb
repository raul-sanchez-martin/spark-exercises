{
 "cells": [
  {
   "cell_type": "markdown",
   "metadata": {},
   "source": [
    "# Structured Streaming Exercise"
   ]
  },
  {
   "cell_type": "markdown",
   "metadata": {},
   "source": [
    "In order to perform the exercises included in this Notebook, it is neccesary to create several csv files iteratively in the data folder (`data/streaming`). For doing so, open a terminal using the Jupyter console and place the working directory in `ex3-structured-streaming`. After that, type `python generate_data.py`."
   ]
  },
  {
   "cell_type": "code",
   "execution_count": null,
   "metadata": {},
   "outputs": [],
   "source": [
    "from pyspark.sql import SparkSession\n",
    "import pyspark.sql.functions as F\n",
    "import pyspark.sql.types as T"
   ]
  },
  {
   "cell_type": "markdown",
   "metadata": {},
   "source": [
    "## 1. Quick Example"
   ]
  },
  {
   "cell_type": "code",
   "execution_count": null,
   "metadata": {},
   "outputs": [],
   "source": [
    "# Create SparkSession\n",
    "\n",
    "spark = SparkSession.builder.appName(\"structured-streaming\")\\\n",
    ".master(\"local[*]\").getOrCreate()"
   ]
  },
  {
   "cell_type": "code",
   "execution_count": null,
   "metadata": {},
   "outputs": [],
   "source": [
    "# Create Schema\n",
    "\n",
    "schema = T.StructType([T.StructField(\"word\", T.StringType(), True),\n",
    "                      T.StructField(\"timestamp\", T.TimestampType(), True)])"
   ]
  },
  {
   "cell_type": "code",
   "execution_count": null,
   "metadata": {},
   "outputs": [],
   "source": [
    "# Read data from folder\n",
    "\n",
    "csvDF = (spark.readStream\n",
    "         .option(\"sep\", \",\")\n",
    "         .option(\"maxFilesPerTrigger\", \"1\")\n",
    "         .schema(schema)\n",
    "         .csv(\"../data/streaming\"))"
   ]
  },
  {
   "cell_type": "code",
   "execution_count": null,
   "metadata": {},
   "outputs": [],
   "source": [
    "# Generate running word count\n",
    "\n",
    "wordCounts = (csvDF\n",
    "              .withWatermark(\"timestamp\", \"10 minutes\")\n",
    "              .groupBy(F.window(F.col(\"timestamp\"), \"3 minutes\", \"1 minutes\"),\n",
    "                       \"word\")\n",
    "              .count()\n",
    "              .orderBy(F.desc(\"window\"), F.asc(\"word\")))"
   ]
  },
  {
   "cell_type": "code",
   "execution_count": null,
   "metadata": {},
   "outputs": [],
   "source": [
    "# Generate and start query\n",
    "\n",
    "query = (wordCounts\n",
    "         .writeStream\n",
    "         .outputMode(\"complete\")\n",
    "         .format(\"console\")\n",
    "         .option(\"truncate\", \"false\")\n",
    "         .start())\n",
    "\n",
    "query.awaitTermination()"
   ]
  },
  {
   "cell_type": "code",
   "execution_count": null,
   "metadata": {},
   "outputs": [],
   "source": [
    "# Generate running word count\n",
    "\n",
    "wordCounts = (csvDF\n",
    "              .withWatermark(\"timestamp\", \"10 minutes\")\n",
    "              .groupBy(F.window(F.col(\"timestamp\"), \"3 minutes\", \"1 minutes\"),\n",
    "                       \"word\")\n",
    "              .count())"
   ]
  },
  {
   "cell_type": "code",
   "execution_count": null,
   "metadata": {},
   "outputs": [],
   "source": [
    "# Generate and start query\n",
    "\n",
    "query = (wordCounts\n",
    "         .writeStream\n",
    "         .outputMode(\"update\")\n",
    "         .format(\"console\")\n",
    "         .option(\"truncate\", \"false\")\n",
    "         .start())\n",
    "\n",
    "query.awaitTermination()"
   ]
  },
  {
   "cell_type": "code",
   "execution_count": null,
   "metadata": {},
   "outputs": [],
   "source": [
    "# Simple select query\n",
    "\n",
    "query = (csvDF\n",
    "         .select(\"word\")\n",
    "         .writeStream\n",
    "         .outputMode(\"append\")\n",
    "         .format(\"console\")\n",
    "         .option(\"truncate\", \"false\")\n",
    "         .start())\n",
    "\n",
    "query.awaitTermination()"
   ]
  },
  {
   "cell_type": "code",
   "execution_count": null,
   "metadata": {},
   "outputs": [],
   "source": []
  }
 ],
 "metadata": {
  "kernelspec": {
   "display_name": "Python 3",
   "language": "python",
   "name": "python3"
  },
  "language_info": {
   "codemirror_mode": {
    "name": "ipython",
    "version": 3
   },
   "file_extension": ".py",
   "mimetype": "text/x-python",
   "name": "python",
   "nbconvert_exporter": "python",
   "pygments_lexer": "ipython3",
   "version": "3.6.7"
  }
 },
 "nbformat": 4,
 "nbformat_minor": 2
}
