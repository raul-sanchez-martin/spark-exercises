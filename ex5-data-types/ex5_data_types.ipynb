{
 "cells": [
  {
   "cell_type": "markdown",
   "metadata": {},
   "source": [
    "## Working with Different Data Types\n",
    "\n",
    "Examples taken from [Spark: The definitive Guide](https://github.com/databricks/Spark-The-Definitive-Guide)"
   ]
  },
  {
   "cell_type": "markdown",
   "metadata": {},
   "source": [
    "## Imports and Initializing Spark Session"
   ]
  },
  {
   "cell_type": "code",
   "execution_count": 1,
   "metadata": {},
   "outputs": [],
   "source": [
    "# Imports\n",
    "\n",
    "from pyspark.sql import SparkSession\n",
    "import pyspark.sql.functions as F\n",
    "import pyspark.sql.types as T"
   ]
  },
  {
   "cell_type": "code",
   "execution_count": 2,
   "metadata": {},
   "outputs": [],
   "source": [
    "# Initializing SparkSession\n",
    "\n",
    "spark = SparkSession.builder.appName(\"Working with Differents Data Types\")\\\n",
    ".master(\"local[*]\").getOrCreate()\n",
    "sc = spark.sparkContext"
   ]
  },
  {
   "cell_type": "markdown",
   "metadata": {},
   "source": [
    "## Loading Data"
   ]
  },
  {
   "cell_type": "code",
   "execution_count": 3,
   "metadata": {},
   "outputs": [],
   "source": [
    "## Load Data\n",
    "\n",
    "df = spark.read.csv(\"../data/retail.csv\", header=True, inferSchema=True)"
   ]
  },
  {
   "cell_type": "code",
   "execution_count": 4,
   "metadata": {},
   "outputs": [
    {
     "name": "stdout",
     "output_type": "stream",
     "text": [
      "+---------+---------+--------------------+--------+-------------------+---------+----------+--------------+\n",
      "|InvoiceNo|StockCode|         Description|Quantity|        InvoiceDate|UnitPrice|CustomerID|       Country|\n",
      "+---------+---------+--------------------+--------+-------------------+---------+----------+--------------+\n",
      "|   536365|   85123A|WHITE HANGING HEA...|       6|2010-12-01 08:26:00|     2.55|   17850.0|United Kingdom|\n",
      "|   536365|    71053| WHITE METAL LANTERN|       6|2010-12-01 08:26:00|     3.39|   17850.0|United Kingdom|\n",
      "|   536365|   84406B|CREAM CUPID HEART...|       8|2010-12-01 08:26:00|     2.75|   17850.0|United Kingdom|\n",
      "|   536365|   84029G|KNITTED UNION FLA...|       6|2010-12-01 08:26:00|     3.39|   17850.0|United Kingdom|\n",
      "|   536365|   84029E|RED WOOLLY HOTTIE...|       6|2010-12-01 08:26:00|     3.39|   17850.0|United Kingdom|\n",
      "|   536365|    22752|SET 7 BABUSHKA NE...|       2|2010-12-01 08:26:00|     7.65|   17850.0|United Kingdom|\n",
      "|   536365|    21730|GLASS STAR FROSTE...|       6|2010-12-01 08:26:00|     4.25|   17850.0|United Kingdom|\n",
      "|   536366|    22633|HAND WARMER UNION...|       6|2010-12-01 08:28:00|     1.85|   17850.0|United Kingdom|\n",
      "|   536366|    22632|HAND WARMER RED P...|       6|2010-12-01 08:28:00|     1.85|   17850.0|United Kingdom|\n",
      "|   536367|    84879|ASSORTED COLOUR B...|      32|2010-12-01 08:34:00|     1.69|   13047.0|United Kingdom|\n",
      "|   536367|    22745|POPPY'S PLAYHOUSE...|       6|2010-12-01 08:34:00|      2.1|   13047.0|United Kingdom|\n",
      "|   536367|    22748|POPPY'S PLAYHOUSE...|       6|2010-12-01 08:34:00|      2.1|   13047.0|United Kingdom|\n",
      "|   536367|    22749|FELTCRAFT PRINCES...|       8|2010-12-01 08:34:00|     3.75|   13047.0|United Kingdom|\n",
      "|   536367|    22310|IVORY KNITTED MUG...|       6|2010-12-01 08:34:00|     1.65|   13047.0|United Kingdom|\n",
      "|   536367|    84969|BOX OF 6 ASSORTED...|       6|2010-12-01 08:34:00|     4.25|   13047.0|United Kingdom|\n",
      "|   536367|    22623|BOX OF VINTAGE JI...|       3|2010-12-01 08:34:00|     4.95|   13047.0|United Kingdom|\n",
      "|   536367|    22622|BOX OF VINTAGE AL...|       2|2010-12-01 08:34:00|     9.95|   13047.0|United Kingdom|\n",
      "|   536367|    21754|HOME BUILDING BLO...|       3|2010-12-01 08:34:00|     5.95|   13047.0|United Kingdom|\n",
      "|   536367|    21755|LOVE BUILDING BLO...|       3|2010-12-01 08:34:00|     5.95|   13047.0|United Kingdom|\n",
      "|   536367|    21777|RECIPE BOX WITH M...|       4|2010-12-01 08:34:00|     7.95|   13047.0|United Kingdom|\n",
      "+---------+---------+--------------------+--------+-------------------+---------+----------+--------------+\n",
      "only showing top 20 rows\n",
      "\n"
     ]
    }
   ],
   "source": [
    "# Show data\n",
    "\n",
    "df.show()"
   ]
  },
  {
   "cell_type": "code",
   "execution_count": 5,
   "metadata": {},
   "outputs": [
    {
     "name": "stdout",
     "output_type": "stream",
     "text": [
      "root\n",
      " |-- InvoiceNo: string (nullable = true)\n",
      " |-- StockCode: string (nullable = true)\n",
      " |-- Description: string (nullable = true)\n",
      " |-- Quantity: integer (nullable = true)\n",
      " |-- InvoiceDate: timestamp (nullable = true)\n",
      " |-- UnitPrice: double (nullable = true)\n",
      " |-- CustomerID: double (nullable = true)\n",
      " |-- Country: string (nullable = true)\n",
      "\n"
     ]
    }
   ],
   "source": [
    "# Show Schema\n",
    "\n",
    "df.printSchema()"
   ]
  },
  {
   "cell_type": "markdown",
   "metadata": {},
   "source": [
    "## Numeric Operations: `stat`"
   ]
  },
  {
   "cell_type": "code",
   "execution_count": 6,
   "metadata": {},
   "outputs": [
    {
     "name": "stdout",
     "output_type": "stream",
     "text": [
      "+-------+------------------+------------------+\n",
      "|summary|          Quantity|         Unitprice|\n",
      "+-------+------------------+------------------+\n",
      "|  count|              3108|              3108|\n",
      "|   mean| 8.627413127413128| 4.151946589446603|\n",
      "| stddev|26.371821677029203|15.638659854603892|\n",
      "|    min|               -24|               0.0|\n",
      "|    max|               600|            607.49|\n",
      "+-------+------------------+------------------+\n",
      "\n"
     ]
    }
   ],
   "source": [
    "# `describe`\n",
    "\n",
    "df.describe().select(\"summary\", \"Quantity\", \"Unitprice\").show()"
   ]
  },
  {
   "cell_type": "code",
   "execution_count": 7,
   "metadata": {},
   "outputs": [
    {
     "data": {
      "text/plain": [
       "-0.04112314436835551"
      ]
     },
     "execution_count": 7,
     "metadata": {},
     "output_type": "execute_result"
    }
   ],
   "source": [
    "# stat.corr\n",
    "\n",
    "df.stat.corr(\"Quantity\", \"UnitPrice\")"
   ]
  },
  {
   "cell_type": "code",
   "execution_count": 8,
   "metadata": {},
   "outputs": [
    {
     "data": {
      "text/plain": [
       "[1.45, 2.51, 4.25]"
      ]
     },
     "execution_count": 8,
     "metadata": {},
     "output_type": "execute_result"
    }
   ],
   "source": [
    "# stat.approxQuantile\n",
    "\n",
    "df.stat.approxQuantile(\"UnitPrice\", [0.25, 0.50, 0.75], 0.005)"
   ]
  },
  {
   "cell_type": "code",
   "execution_count": 9,
   "metadata": {},
   "outputs": [
    {
     "name": "stdout",
     "output_type": "stream",
     "text": [
      "+------------------+----+----+----+\n",
      "|Quantity_UnitPrice|2.55|2.75|3.39|\n",
      "+------------------+----+----+----+\n",
      "|                 8|   0|   1|   0|\n",
      "|                 6|   1|   0|   1|\n",
      "+------------------+----+----+----+\n",
      "\n"
     ]
    }
   ],
   "source": [
    "# stat.crosstab\n",
    "\n",
    "df.limit(3).stat.crosstab(\"Quantity\", \"UnitPrice\").show()"
   ]
  },
  {
   "cell_type": "code",
   "execution_count": 10,
   "metadata": {},
   "outputs": [
    {
     "name": "stdout",
     "output_type": "stream",
     "text": [
      "+--------------------+--------------------+\n",
      "| StockCode_freqItems|  Quantity_freqItems|\n",
      "+--------------------+--------------------+\n",
      "|[90214E, 20728, 2...|[200, 128, 23, 32...|\n",
      "+--------------------+--------------------+\n",
      "\n"
     ]
    }
   ],
   "source": [
    "# stat.freqItems\n",
    "\n",
    "df.freqItems([\"StockCode\", \"Quantity\"]).show()"
   ]
  },
  {
   "cell_type": "markdown",
   "metadata": {},
   "source": [
    "## String Operations: `regexp_replace`, `regexp_extract`"
   ]
  },
  {
   "cell_type": "code",
   "execution_count": 11,
   "metadata": {},
   "outputs": [
    {
     "name": "stdout",
     "output_type": "stream",
     "text": [
      "+-----------------------------------+-----------------------------------+\n",
      "|color_clean                        |Description                        |\n",
      "+-----------------------------------+-----------------------------------+\n",
      "|COLOR HANGING HEART T-LIGHT HOLDER |WHITE HANGING HEART T-LIGHT HOLDER |\n",
      "|COLOR METAL LANTERN                |WHITE METAL LANTERN                |\n",
      "|CREAM CUPID HEARTS COAT HANGER     |CREAM CUPID HEARTS COAT HANGER     |\n",
      "|KNITTED UNION FLAG HOT WATER BOTTLE|KNITTED UNION FLAG HOT WATER BOTTLE|\n",
      "|COLOR WOOLLY HOTTIE COLOR HEART.   |RED WOOLLY HOTTIE WHITE HEART.     |\n",
      "|SET 7 BABUSHKA NESTING BOXES       |SET 7 BABUSHKA NESTING BOXES       |\n",
      "|GLASS STAR FROSTED T-LIGHT HOLDER  |GLASS STAR FROSTED T-LIGHT HOLDER  |\n",
      "|HAND WARMER UNION JACK             |HAND WARMER UNION JACK             |\n",
      "|HAND WARMER COLOR POLKA DOT        |HAND WARMER RED POLKA DOT          |\n",
      "|ASSORTED COLOUR BIRD ORNAMENT      |ASSORTED COLOUR BIRD ORNAMENT      |\n",
      "|POPPY'S PLAYHOUSE BEDROOM          |POPPY'S PLAYHOUSE BEDROOM          |\n",
      "|POPPY'S PLAYHOUSE KITCHEN          |POPPY'S PLAYHOUSE KITCHEN          |\n",
      "|FELTCRAFT PRINCESS CHARLOTTE DOLL  |FELTCRAFT PRINCESS CHARLOTTE DOLL  |\n",
      "|IVORY KNITTED MUG COSY             |IVORY KNITTED MUG COSY             |\n",
      "|BOX OF 6 ASSORTED COLOUR TEASPOONS |BOX OF 6 ASSORTED COLOUR TEASPOONS |\n",
      "|BOX OF VINTAGE JIGSAW BLOCKS       |BOX OF VINTAGE JIGSAW BLOCKS       |\n",
      "|BOX OF VINTAGE ALPHABET BLOCKS     |BOX OF VINTAGE ALPHABET BLOCKS     |\n",
      "|HOME BUILDING BLOCK WORD           |HOME BUILDING BLOCK WORD           |\n",
      "|LOVE BUILDING BLOCK WORD           |LOVE BUILDING BLOCK WORD           |\n",
      "|RECIPE BOX WITH METAL HEART        |RECIPE BOX WITH METAL HEART        |\n",
      "+-----------------------------------+-----------------------------------+\n",
      "only showing top 20 rows\n",
      "\n"
     ]
    }
   ],
   "source": [
    "# regexp_replace:\n",
    "# in the column Description, substitute all the words \"BLACK\", \"WHITE\",\n",
    "# \"RED\", \"GREEN\", \"BLUE\" by \"COLOR\"\n",
    "\n",
    "# Define the regex string\n",
    "regex_string=\"BLACK|WHITE|RED|GREEN|BLUE\"\n",
    "\n",
    "# Apply the transformation\n",
    "df.select(F.regexp_replace(F.col(\"Description\"), regex_string, \"COLOR\").alias(\"color_clean\"), \n",
    "          F.col(\"Description\")).show(truncate=False)"
   ]
  },
  {
   "cell_type": "code",
   "execution_count": 12,
   "metadata": {},
   "outputs": [
    {
     "name": "stdout",
     "output_type": "stream",
     "text": [
      "+-----------+-----------------------------------+\n",
      "|color_clean|Description                        |\n",
      "+-----------+-----------------------------------+\n",
      "|WHITE      |WHITE HANGING HEART T-LIGHT HOLDER |\n",
      "|WHITE      |WHITE METAL LANTERN                |\n",
      "|           |CREAM CUPID HEARTS COAT HANGER     |\n",
      "|           |KNITTED UNION FLAG HOT WATER BOTTLE|\n",
      "|RED        |RED WOOLLY HOTTIE WHITE HEART.     |\n",
      "|           |SET 7 BABUSHKA NESTING BOXES       |\n",
      "|           |GLASS STAR FROSTED T-LIGHT HOLDER  |\n",
      "|           |HAND WARMER UNION JACK             |\n",
      "|RED        |HAND WARMER RED POLKA DOT          |\n",
      "|           |ASSORTED COLOUR BIRD ORNAMENT      |\n",
      "|           |POPPY'S PLAYHOUSE BEDROOM          |\n",
      "|           |POPPY'S PLAYHOUSE KITCHEN          |\n",
      "|           |FELTCRAFT PRINCESS CHARLOTTE DOLL  |\n",
      "|           |IVORY KNITTED MUG COSY             |\n",
      "|           |BOX OF 6 ASSORTED COLOUR TEASPOONS |\n",
      "|           |BOX OF VINTAGE JIGSAW BLOCKS       |\n",
      "|           |BOX OF VINTAGE ALPHABET BLOCKS     |\n",
      "|           |HOME BUILDING BLOCK WORD           |\n",
      "|           |LOVE BUILDING BLOCK WORD           |\n",
      "|           |RECIPE BOX WITH METAL HEART        |\n",
      "+-----------+-----------------------------------+\n",
      "only showing top 20 rows\n",
      "\n"
     ]
    }
   ],
   "source": [
    "# regexp_extract:\n",
    "# in the column Description, extract the first occurrence of the \n",
    "# the words \"BLACK\", \"WHITE\", \"RED\", \"GREEN\", \"BLUE\".\n",
    "\n",
    "# Define the regex string\n",
    "regex_string=\"(BLACK|WHITE|RED|GREEN|BLUE)\"\n",
    "\n",
    "# Apply the transformation\n",
    "df.select(F.regexp_extract(F.col(\"Description\"), regex_string, 1).alias(\"color_clean\"), \n",
    "          F.col(\"Description\")).show(truncate=False)"
   ]
  },
  {
   "cell_type": "markdown",
   "metadata": {},
   "source": [
    "## Dates Operation"
   ]
  },
  {
   "cell_type": "code",
   "execution_count": 13,
   "metadata": {},
   "outputs": [],
   "source": [
    "# Create a dataframe with dates and timestamps \n",
    "# using F.current_date and F.current_timestamp\n",
    "\n",
    "date_df = spark.range(1).withColumn(\"today\", F.current_date())\\\n",
    "                        .withColumn(\"now\", F.current_timestamp())"
   ]
  },
  {
   "cell_type": "code",
   "execution_count": 14,
   "metadata": {},
   "outputs": [
    {
     "name": "stdout",
     "output_type": "stream",
     "text": [
      "+---+----------+-----------------------+\n",
      "|id |today     |now                    |\n",
      "+---+----------+-----------------------+\n",
      "|0  |2019-01-13|2019-01-13 13:09:25.201|\n",
      "+---+----------+-----------------------+\n",
      "\n"
     ]
    }
   ],
   "source": [
    "date_df.show(truncate=False)"
   ]
  },
  {
   "cell_type": "code",
   "execution_count": 15,
   "metadata": {},
   "outputs": [
    {
     "name": "stdout",
     "output_type": "stream",
     "text": [
      "+---+----------+-------------------+\n",
      "| id|      date|          timestamp|\n",
      "+---+----------+-------------------+\n",
      "|  0|2019-03-15|2019-03-15 18:23:59|\n",
      "+---+----------+-------------------+\n",
      "\n"
     ]
    }
   ],
   "source": [
    "# Creating a dataframe with dates and timestamps\n",
    "# using F.to_date and F.to_timestamp\n",
    "\n",
    "date_format = \"yyyy-dd-MM\"\n",
    "timestamp_format = \"yyyy/MM/dd HH:mm:ss\"\n",
    "\n",
    "date_df_v2 = spark.range(1).withColumn(\"date\", F.to_date(F.lit(\"2019-15-03\"), date_format))\\\n",
    "                           .withColumn(\"timestamp\", F.to_timestamp(F.lit(\"2019/03/15 18:23:59\"), \n",
    "                                                                   timestamp_format))\n",
    "\n",
    "date_df_v2.show()"
   ]
  },
  {
   "cell_type": "code",
   "execution_count": 16,
   "metadata": {},
   "outputs": [
    {
     "name": "stdout",
     "output_type": "stream",
     "text": [
      "+---+----------+-------------------+----------+---------+-----------+\n",
      "| id|      date|          timestamp|  week_ago|days_diff|months_diff|\n",
      "+---+----------+-------------------+----------+---------+-----------+\n",
      "|  0|2019-03-15|2019-03-15 18:23:59|2019-03-08|        7| 0.22580645|\n",
      "+---+----------+-------------------+----------+---------+-----------+\n",
      "\n"
     ]
    }
   ],
   "source": [
    "# using F.date_sub, F.datediff, F.months_between\n",
    "\n",
    "date_df_v2.withColumn(\"week_ago\", F.date_sub(F.col(\"date\"), 7))\\\n",
    "          .withColumn(\"days_diff\", F.datediff(F.col(\"date\"), F.col(\"week_ago\")))\\\n",
    "          .withColumn(\"months_diff\", F.months_between(F.col(\"date\"), F.col(\"week_ago\"))).show()"
   ]
  },
  {
   "cell_type": "markdown",
   "metadata": {},
   "source": [
    "## Arrays Operations"
   ]
  },
  {
   "cell_type": "code",
   "execution_count": 17,
   "metadata": {},
   "outputs": [],
   "source": [
    "# Create data with arrays in some columns\n",
    "\n",
    "df_array = spark.createDataFrame(sc.parallelize([(1, [\"a\", \"j\", \"k\"], \"a j k\"),\n",
    "                                                 (2, [\"t\", \"y\", \"w\"], \"t y w\"),\n",
    "                                                 (3, [\"p\", \"u\", \"a\"], \"p u a\")]), \n",
    "                                 [\"id\", \"letters\", \"words\"])"
   ]
  },
  {
   "cell_type": "code",
   "execution_count": 18,
   "metadata": {},
   "outputs": [
    {
     "name": "stdout",
     "output_type": "stream",
     "text": [
      "+---+---------+-----+\n",
      "| id|  letters|words|\n",
      "+---+---------+-----+\n",
      "|  1|[a, j, k]|a j k|\n",
      "|  2|[t, y, w]|t y w|\n",
      "|  3|[p, u, a]|p u a|\n",
      "+---+---------+-----+\n",
      "\n"
     ]
    }
   ],
   "source": [
    "df_array.show()"
   ]
  },
  {
   "cell_type": "code",
   "execution_count": 19,
   "metadata": {},
   "outputs": [
    {
     "name": "stdout",
     "output_type": "stream",
     "text": [
      "+---+---------+-----+\n",
      "| id|  letters|words|\n",
      "+---+---------+-----+\n",
      "|  1|[a, j, k]|a j k|\n",
      "|  3|[p, u, a]|p u a|\n",
      "+---+---------+-----+\n",
      "\n"
     ]
    }
   ],
   "source": [
    "# Using F.array_contains\n",
    "\n",
    "df_array.filter(F.array_contains(F.col(\"letters\"), \"a\")).show()"
   ]
  },
  {
   "cell_type": "code",
   "execution_count": 20,
   "metadata": {},
   "outputs": [
    {
     "name": "stdout",
     "output_type": "stream",
     "text": [
      "+---+---------+-----+----------+\n",
      "| id|  letters|words|letters_v2|\n",
      "+---+---------+-----+----------+\n",
      "|  1|[a, j, k]|a j k| [a, j, k]|\n",
      "|  2|[t, y, w]|t y w| [t, y, w]|\n",
      "|  3|[p, u, a]|p u a| [p, u, a]|\n",
      "+---+---------+-----+----------+\n",
      "\n"
     ]
    }
   ],
   "source": [
    "## Using F.split\n",
    "\n",
    "df_array.withColumn(\"letters_v2\", F.split(F.col(\"words\"), \" \")).show()"
   ]
  },
  {
   "cell_type": "code",
   "execution_count": 21,
   "metadata": {},
   "outputs": [
    {
     "name": "stdout",
     "output_type": "stream",
     "text": [
      "+---+\n",
      "|col|\n",
      "+---+\n",
      "|  a|\n",
      "|  j|\n",
      "|  k|\n",
      "|  t|\n",
      "|  y|\n",
      "|  w|\n",
      "|  p|\n",
      "|  u|\n",
      "|  a|\n",
      "+---+\n",
      "\n"
     ]
    }
   ],
   "source": [
    "## Using F.explode\n",
    "\n",
    "df_array.select(F.explode(F.col(\"letters\"))).show()"
   ]
  },
  {
   "cell_type": "code",
   "execution_count": null,
   "metadata": {},
   "outputs": [],
   "source": []
  },
  {
   "cell_type": "code",
   "execution_count": null,
   "metadata": {},
   "outputs": [],
   "source": []
  }
 ],
 "metadata": {
  "kernelspec": {
   "display_name": "Python 3",
   "language": "python",
   "name": "python3"
  },
  "language_info": {
   "codemirror_mode": {
    "name": "ipython",
    "version": 3
   },
   "file_extension": ".py",
   "mimetype": "text/x-python",
   "name": "python",
   "nbconvert_exporter": "python",
   "pygments_lexer": "ipython3",
   "version": "3.6.7"
  }
 },
 "nbformat": 4,
 "nbformat_minor": 2
}
