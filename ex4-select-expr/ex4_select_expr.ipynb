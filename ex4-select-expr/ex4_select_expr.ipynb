{
 "cells": [
  {
   "cell_type": "markdown",
   "metadata": {},
   "source": [
    "# Basic Structured Operations: `expr` and `selectExpr`\n",
    "\n",
    "Examples taken from [Spark: The definitive Guide](https://github.com/databricks/Spark-The-Definitive-Guide)"
   ]
  },
  {
   "cell_type": "markdown",
   "metadata": {},
   "source": [
    "## Imports and Initializing Spark Session"
   ]
  },
  {
   "cell_type": "code",
   "execution_count": 1,
   "metadata": {},
   "outputs": [],
   "source": [
    "# Imports\n",
    "\n",
    "from pyspark.sql import SparkSession\n",
    "import pyspark.sql.functions as F\n",
    "import pyspark.sql.types as T"
   ]
  },
  {
   "cell_type": "code",
   "execution_count": 2,
   "metadata": {},
   "outputs": [],
   "source": [
    "# Initializing SparkSession\n",
    "\n",
    "spark = SparkSession.builder.appName(\"Basic Structured Operations\").master(\"local[*]\").getOrCreate()"
   ]
  },
  {
   "cell_type": "markdown",
   "metadata": {},
   "source": [
    "## Loading Data"
   ]
  },
  {
   "cell_type": "code",
   "execution_count": 23,
   "metadata": {},
   "outputs": [],
   "source": [
    "# Defining schema \n",
    "\n",
    "schema = T.StructType([T.StructField(\"id\", T.IntegerType(), True),\n",
    "                       T.StructField(\"savings\", T.IntegerType(), True),\n",
    "                       T.StructField(\"debt\", T.IntegerType(), True)])"
   ]
  },
  {
   "cell_type": "code",
   "execution_count": 24,
   "metadata": {},
   "outputs": [],
   "source": [
    "# Loading data\n",
    "\n",
    "df = spark.read.csv(\"../data/balance.csv\", sep=\",\", header=True, schema=schema)"
   ]
  },
  {
   "cell_type": "code",
   "execution_count": 25,
   "metadata": {},
   "outputs": [
    {
     "name": "stdout",
     "output_type": "stream",
     "text": [
      "+---+-------+------+\n",
      "| id|savings|  debt|\n",
      "+---+-------+------+\n",
      "|  1| 125365| 54821|\n",
      "|  2|  54872|   254|\n",
      "|  3|    125| 12548|\n",
      "|  4| 587465|635548|\n",
      "|  5|  45879| 69852|\n",
      "|  6|  12465|     0|\n",
      "|  7|  25312| 12596|\n",
      "|  8| 785236|953124|\n",
      "|  9| 125963|256325|\n",
      "| 10|  46325|  1289|\n",
      "+---+-------+------+\n",
      "\n"
     ]
    }
   ],
   "source": [
    "# Show data\n",
    "\n",
    "df.show()"
   ]
  },
  {
   "cell_type": "code",
   "execution_count": 26,
   "metadata": {},
   "outputs": [
    {
     "name": "stdout",
     "output_type": "stream",
     "text": [
      "root\n",
      " |-- id: integer (nullable = true)\n",
      " |-- savings: integer (nullable = true)\n",
      " |-- debt: integer (nullable = true)\n",
      "\n"
     ]
    }
   ],
   "source": [
    "# Show schema\n",
    "\n",
    "df.printSchema()"
   ]
  },
  {
   "cell_type": "markdown",
   "metadata": {},
   "source": [
    "## Some Examples Using `expr` and `selectExpr`"
   ]
  },
  {
   "cell_type": "markdown",
   "metadata": {},
   "source": [
    "### Select all columns and an additional one with the net balance (savings - debt)"
   ]
  },
  {
   "cell_type": "code",
   "execution_count": 28,
   "metadata": {},
   "outputs": [
    {
     "name": "stdout",
     "output_type": "stream",
     "text": [
      "+---+-------+------+-----------+\n",
      "| id|savings|  debt|net_balance|\n",
      "+---+-------+------+-----------+\n",
      "|  1| 125365| 54821|      70544|\n",
      "|  2|  54872|   254|      54618|\n",
      "|  3|    125| 12548|     -12423|\n",
      "|  4| 587465|635548|     -48083|\n",
      "|  5|  45879| 69852|     -23973|\n",
      "|  6|  12465|     0|      12465|\n",
      "|  7|  25312| 12596|      12716|\n",
      "|  8| 785236|953124|    -167888|\n",
      "|  9| 125963|256325|    -130362|\n",
      "| 10|  46325|  1289|      45036|\n",
      "+---+-------+------+-----------+\n",
      "\n"
     ]
    }
   ],
   "source": [
    "# Mode 1: Using DataFrame API\n",
    "\n",
    "df.withColumn(\"net_balance\", F.col(\"savings\") - F.col(\"debt\")).show()"
   ]
  },
  {
   "cell_type": "code",
   "execution_count": 32,
   "metadata": {},
   "outputs": [
    {
     "name": "stdout",
     "output_type": "stream",
     "text": [
      "+---+-------+------+-----------+\n",
      "| id|savings|  debt|net_balance|\n",
      "+---+-------+------+-----------+\n",
      "|  1| 125365| 54821|      70544|\n",
      "|  2|  54872|   254|      54618|\n",
      "|  3|    125| 12548|     -12423|\n",
      "|  4| 587465|635548|     -48083|\n",
      "|  5|  45879| 69852|     -23973|\n",
      "|  6|  12465|     0|      12465|\n",
      "|  7|  25312| 12596|      12716|\n",
      "|  8| 785236|953124|    -167888|\n",
      "|  9| 125963|256325|    -130362|\n",
      "| 10|  46325|  1289|      45036|\n",
      "+---+-------+------+-----------+\n",
      "\n"
     ]
    }
   ],
   "source": [
    "# Mode 2: Using `expr`\n",
    "\n",
    "df.select(F.expr(\"*\"), F.expr(\"savings-debt as net_balance\")).show()"
   ]
  },
  {
   "cell_type": "code",
   "execution_count": 34,
   "metadata": {},
   "outputs": [
    {
     "name": "stdout",
     "output_type": "stream",
     "text": [
      "+---+-------+------+-----------+\n",
      "| id|savings|  debt|net_balance|\n",
      "+---+-------+------+-----------+\n",
      "|  1| 125365| 54821|      70544|\n",
      "|  2|  54872|   254|      54618|\n",
      "|  3|    125| 12548|     -12423|\n",
      "|  4| 587465|635548|     -48083|\n",
      "|  5|  45879| 69852|     -23973|\n",
      "|  6|  12465|     0|      12465|\n",
      "|  7|  25312| 12596|      12716|\n",
      "|  8| 785236|953124|    -167888|\n",
      "|  9| 125963|256325|    -130362|\n",
      "| 10|  46325|  1289|      45036|\n",
      "+---+-------+------+-----------+\n",
      "\n"
     ]
    }
   ],
   "source": [
    "# Mode 3: Using `selectExpr`\n",
    "\n",
    "df.selectExpr(\"*\", \"savings-debt as net_balance\").show()"
   ]
  },
  {
   "cell_type": "code",
   "execution_count": null,
   "metadata": {},
   "outputs": [],
   "source": []
  }
 ],
 "metadata": {
  "kernelspec": {
   "display_name": "Python 3",
   "language": "python",
   "name": "python3"
  },
  "language_info": {
   "codemirror_mode": {
    "name": "ipython",
    "version": 3
   },
   "file_extension": ".py",
   "mimetype": "text/x-python",
   "name": "python",
   "nbconvert_exporter": "python",
   "pygments_lexer": "ipython3",
   "version": "3.6.7"
  }
 },
 "nbformat": 4,
 "nbformat_minor": 2
}
